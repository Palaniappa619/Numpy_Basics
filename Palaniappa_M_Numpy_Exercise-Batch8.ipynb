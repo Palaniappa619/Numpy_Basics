{
 "cells": [
  {
   "cell_type": "markdown",
   "metadata": {},
   "source": [
    "# Numpy Exercise  <img src = \"numpy1.png\">\n",
    "###### Authored by T.K.Senthil Kumar"
   ]
  },
  {
   "cell_type": "markdown",
   "metadata": {},
   "source": [
    "#### 1. Create a numpy array with the number of elements equals your age. The value of array elements is a random number between 10 to your age "
   ]
  },
  {
   "cell_type": "code",
   "execution_count": 1,
   "metadata": {},
   "outputs": [
    {
     "name": "stdout",
     "output_type": "stream",
     "text": [
      "Numpy array:  [ 0  1  2  3  4  5  6  7  8  9 10 11 12 13 14 15 16 17 18 19 20 21 22]\n",
      "value of array elemenets:  [17]\n"
     ]
    }
   ],
   "source": [
    "#Solution\n",
    "import numpy as np\n",
    "ar=np.arange(0,23)\n",
    "value=np.random.randint(10,23,1)\n",
    "print(\"Numpy array: \",ar)\n",
    "print(\"value of array elemenets: \",value)"
   ]
  },
  {
   "cell_type": "markdown",
   "metadata": {},
   "source": [
    "#### 2. Create a numpy array between 1 to 50 with the span(space) of 2 and print the length of the array"
   ]
  },
  {
   "cell_type": "code",
   "execution_count": 16,
   "metadata": {},
   "outputs": [
    {
     "name": "stdout",
     "output_type": "stream",
     "text": [
      "Array is:  [ 1  3  5  7  9 11 13 15 17 19 21 23 25 27 29 31 33 35 37 39 41 43 45 47\n",
      " 49]\n",
      "Length of array:  25\n"
     ]
    }
   ],
   "source": [
    "# Solution\n",
    "ar1=np.arange(1,50,2)\n",
    "print(\"Array is: \",ar1)\n",
    "print(\"Length of array: \",len(ar1))"
   ]
  },
  {
   "cell_type": "markdown",
   "metadata": {},
   "source": [
    "#### 3. Create an equally spaced numpy array with 27 elements between 4 and 7 "
   ]
  },
  {
   "cell_type": "code",
   "execution_count": 18,
   "metadata": {},
   "outputs": [
    {
     "name": "stdout",
     "output_type": "stream",
     "text": [
      "Array is:  [4.         4.11538462 4.23076923 4.34615385 4.46153846 4.57692308\n",
      " 4.69230769 4.80769231 4.92307692 5.03846154 5.15384615 5.26923077\n",
      " 5.38461538 5.5        5.61538462 5.73076923 5.84615385 5.96153846\n",
      " 6.07692308 6.19230769 6.30769231 6.42307692 6.53846154 6.65384615\n",
      " 6.76923077 6.88461538 7.        ]\n"
     ]
    }
   ],
   "source": [
    "# Solution\n",
    "ar2=np.linspace(4,7,27)\n",
    "print(\"Array is: \",ar2)"
   ]
  },
  {
   "cell_type": "markdown",
   "metadata": {},
   "source": [
    "#### 4. Create a matrix of size (5 x 4) with random numbers and round off the each elements by only 2 fractional points."
   ]
  },
  {
   "cell_type": "code",
   "execution_count": 25,
   "metadata": {},
   "outputs": [
    {
     "name": "stdout",
     "output_type": "stream",
     "text": [
      "Original Matrix is:  [[0.29267134 0.56519517 0.88230283 0.43288181]\n",
      " [0.90379872 0.82313063 0.16515691 0.3709341 ]\n",
      " [0.36659939 0.48498748 0.5504091  0.26735129]\n",
      " [0.8354363  0.62957249 0.67463285 0.96523848]\n",
      " [0.48628407 0.58132148 0.80792635 0.24305893]]\n",
      "round off matrix is:  [[0.29 0.57 0.88 0.43]\n",
      " [0.9  0.82 0.17 0.37]\n",
      " [0.37 0.48 0.55 0.27]\n",
      " [0.84 0.63 0.67 0.97]\n",
      " [0.49 0.58 0.81 0.24]]\n"
     ]
    }
   ],
   "source": [
    "# Solution\n",
    "matrix= np.random.random((5,4))\n",
    "print(\"Original Matrix is: \",matrix)\n",
    "print(\"round off matrix is: \",np.round(matrix,2))"
   ]
  },
  {
   "cell_type": "markdown",
   "metadata": {},
   "source": [
    "#### 5. Create a matrix of size (5x5) with random integers between 5 to 15"
   ]
  },
  {
   "cell_type": "code",
   "execution_count": 27,
   "metadata": {},
   "outputs": [
    {
     "name": "stdout",
     "output_type": "stream",
     "text": [
      "Matrix of random integer is:  [[12 13  8  5 14]\n",
      " [11  6  8 13  9]\n",
      " [ 5 11 11  6  9]\n",
      " [ 7 13 12  8 13]\n",
      " [13  5 12 11 10]]\n"
     ]
    }
   ],
   "source": [
    "# Solution\n",
    "matrix1=np.random.randint(5,15,(5,5))\n",
    "print(\"Matrix of random integer is: \",matrix1)"
   ]
  },
  {
   "cell_type": "markdown",
   "metadata": {},
   "source": [
    "#### 6. Create the one dimensional array of zeros of random length below 20 with the data type int32"
   ]
  },
  {
   "cell_type": "code",
   "execution_count": 36,
   "metadata": {},
   "outputs": [
    {
     "name": "stdout",
     "output_type": "stream",
     "text": [
      "one dimensional array of random length is:  [0. 0. 0. 0. 0. 0. 0. 0. 0. 0. 0. 0. 0. 0. 0. 0. 0. 0. 0. 0.]\n",
      "one dimensional array of random length of data type int32 is:  [0 0 0 0 0 0 0 0 0 0 0 0 0 0 0 0 0 0 0 0]\n",
      "Data type is:  int32\n"
     ]
    }
   ],
   "source": [
    "# Solution\n",
    "ar3=np.zeros(20)\n",
    "ar4=ar3.astype(np.int32)\n",
    "print(\"one dimensional array of random length is: \",ar3)\n",
    "print(\"one dimensional array of random length of data type int32 is: \",ar4)\n",
    "print(\"Data type is: \",ar4.dtype)"
   ]
  },
  {
   "cell_type": "markdown",
   "metadata": {},
   "source": [
    "#### 7. Create a two dimensional array of ones of random row and column lengths with the data type of float32 "
   ]
  },
  {
   "cell_type": "code",
   "execution_count": 34,
   "metadata": {},
   "outputs": [
    {
     "name": "stdout",
     "output_type": "stream",
     "text": [
      "Matrix of two dimensional array of ones:  [[1. 1. 1.]\n",
      " [1. 1. 1.]\n",
      " [1. 1. 1.]]\n",
      "Data type is:  float32\n"
     ]
    }
   ],
   "source": [
    "# Solution\n",
    "matrix3=1*np.ones((3,3))\n",
    "matrix3=matrix3.astype(np.float32)\n",
    "print(\"Matrix of two dimensional array of ones: \",matrix3)\n",
    "print(\"Data type is: \",matrix3.dtype)"
   ]
  },
  {
   "cell_type": "markdown",
   "metadata": {},
   "source": [
    "#### 8. Create a matrix exactly as same as shown below and print its shape, type and dtype\n",
    "<img src = \"np_mat1.png\">"
   ]
  },
  {
   "cell_type": "code",
   "execution_count": 48,
   "metadata": {},
   "outputs": [
    {
     "name": "stdout",
     "output_type": "stream",
     "text": [
      "Shape of the matrix is:  (5, 5)\n",
      "Type of the matrix is:  <class 'numpy.ndarray'>\n",
      "dtype of the matrix is:  int32\n"
     ]
    }
   ],
   "source": [
    "# Solution\n",
    "matrix4=np.array([[9,25,50,34,45],[3,34,34,65,2],[5,7,3,76,3],[7,8,6,54,6],[23,12,8,5,8]])\n",
    "print(\"Shape of the matrix is: \",matrix4.shape)\n",
    "print(\"Type of the matrix is: \",type(matrix4))\n",
    "print(\"dtype of the matrix is: \",matrix4.dtype)"
   ]
  },
  {
   "cell_type": "markdown",
   "metadata": {},
   "source": [
    "#### 9. Access the center pixel of the matrix defined in the question no 8 ( Don't enter the row and column index explicitely)"
   ]
  },
  {
   "cell_type": "code",
   "execution_count": 63,
   "metadata": {},
   "outputs": [
    {
     "name": "stdout",
     "output_type": "stream",
     "text": [
      "[[ 9 25 50 34 45]\n",
      " [ 3 34 34 65  2]\n",
      " [ 5  7  3 76  3]\n",
      " [ 7  8  6 54  6]\n",
      " [23 12  8  5  8]]\n",
      "The center element is:  3\n",
      "Type of Mid Value is:  <class 'numpy.ndarray'>\n"
     ]
    }
   ],
   "source": [
    "# Solution\n",
    "matrix4=np.array([[9,25,50,34,45],[3,34,34,65,2],[5,7,3,76,3],[7,8,6,54,6],[23,12,8,5,8]])\n",
    "print(matrix4)\n",
    "matrix5=matrix4.flatten()\n",
    "mid_value=matrix5[int(len(matrix5)/2)]\n",
    "print(\"The center element is: \",mid_value)"
   ]
  },
  {
   "cell_type": "markdown",
   "metadata": {},
   "source": [
    "#### 10. Print the all the elements of 3rd row of the matrix"
   ]
  },
  {
   "cell_type": "code",
   "execution_count": 71,
   "metadata": {},
   "outputs": [
    {
     "name": "stdout",
     "output_type": "stream",
     "text": [
      "Third row of the matrix is:  [ 5  7  3 76  3]\n"
     ]
    }
   ],
   "source": [
    "# Solution\n",
    "matrix6=matrix4[2]\n",
    "print(\"Third row of the matrix is: \",matrix6)"
   ]
  },
  {
   "cell_type": "markdown",
   "metadata": {},
   "source": [
    "#### 11. Print the all the elements of 4th columns of the matrix"
   ]
  },
  {
   "cell_type": "code",
   "execution_count": 74,
   "metadata": {},
   "outputs": [
    {
     "name": "stdout",
     "output_type": "stream",
     "text": [
      "4th column of the matrix is:  [[34]\n",
      " [65]\n",
      " [76]\n",
      " [54]\n",
      " [ 5]]\n"
     ]
    }
   ],
   "source": [
    "# Solution\n",
    "matrix7=matrix4[:,3:4]\n",
    "print(\"4th column of the matrix is: \",matrix7)"
   ]
  },
  {
   "cell_type": "markdown",
   "metadata": {},
   "source": [
    "#### 12. Print the 4 corner pixels of the matrix"
   ]
  },
  {
   "cell_type": "code",
   "execution_count": 103,
   "metadata": {},
   "outputs": [
    {
     "name": "stdout",
     "output_type": "stream",
     "text": [
      "Four corner of the matrix is:  [ 9 45 23  8]\n"
     ]
    }
   ],
   "source": [
    "# Solution\n",
    "matrix8=matrix4[[0,0,4,4],[0,4,0,4]]\n",
    "print(\"Four corner of the matrix is: \",matrix8)"
   ]
  },
  {
   "cell_type": "markdown",
   "metadata": {},
   "source": [
    "#### 13. Create three matrix m1,m2,m3 with the elements grouped in the figure below\n",
    "<img src = \"np_mat2.png\">"
   ]
  },
  {
   "cell_type": "code",
   "execution_count": 121,
   "metadata": {},
   "outputs": [
    {
     "name": "stdout",
     "output_type": "stream",
     "text": [
      "M1 is:  [[50 34]\n",
      " [34 65]]\n",
      "M2 is:  [[ 7  8]\n",
      " [23 12]]\n",
      "M3 is:  [[ 3 76  3]\n",
      " [ 6 54  6]\n",
      " [ 8  5  8]]\n"
     ]
    }
   ],
   "source": [
    "# Solution \n",
    "m1=np.array([[50,34],[34,65]])\n",
    "m3=np.array([[3,76,3],[6,54,6],[8,5,8]])\n",
    "m2=np.array([[7,8],[23,12]])\n",
    "print(\"M1 is: \",m1)\n",
    "print(\"M2 is: \",m2)\n",
    "print(\"M3 is: \",m3)"
   ]
  },
  {
   "cell_type": "markdown",
   "metadata": {},
   "source": [
    "#### 14. Reshape all the three matrix segmented in the above task in to three  1-dimensional vector."
   ]
  },
  {
   "cell_type": "code",
   "execution_count": 123,
   "metadata": {},
   "outputs": [
    {
     "name": "stdout",
     "output_type": "stream",
     "text": [
      "one dimensional vector of m1 is:  [[50 34 34 65]]\n",
      "one dimensional vector of m2 is:  [[ 7  8 23 12]]\n",
      "one dimensional vector of m3 is:  [[ 3 76  3  6 54  6  8  5  8]]\n"
     ]
    }
   ],
   "source": [
    "# Solution\n",
    "m4=m1.reshape((1,4))\n",
    "m5=m2.reshape((1,4))\n",
    "m6=m3.reshape((1,9))\n",
    "print(\"one dimensional vector of m1 is: \",m4)\n",
    "print(\"one dimensional vector of m2 is: \",m5)\n",
    "print(\"one dimensional vector of m3 is: \",m6)"
   ]
  },
  {
   "cell_type": "markdown",
   "metadata": {},
   "source": [
    "#### 15. Concatenate the matrix m1 and m2 in both vertical and horizontal direction"
   ]
  },
  {
   "cell_type": "code",
   "execution_count": 126,
   "metadata": {},
   "outputs": [
    {
     "name": "stdout",
     "output_type": "stream",
     "text": [
      "vertical concatenation is:  [[50 34  7  8]\n",
      " [34 65 23 12]]\n",
      "horizontal concatenation is:  [[50 34]\n",
      " [34 65]\n",
      " [ 7  8]\n",
      " [23 12]]\n"
     ]
    }
   ],
   "source": [
    "# Solution\n",
    "m7=np.concatenate((m1,m2),axis=1)\n",
    "m8=np.concatenate((m1,m2),axis=0)\n",
    "print(\"vertical concatenation is: \",m7)\n",
    "print(\"horizontal concatenation is: \",m8)"
   ]
  },
  {
   "cell_type": "markdown",
   "metadata": {},
   "source": [
    "#### 16. Add, Subtract, multiply, divide the matrixes m1 and m2"
   ]
  },
  {
   "cell_type": "code",
   "execution_count": 127,
   "metadata": {},
   "outputs": [
    {
     "name": "stdout",
     "output_type": "stream",
     "text": [
      "M1+M2=  [[57 42]\n",
      " [57 77]]\n",
      "M1-M2=  [[43 26]\n",
      " [11 53]]\n",
      "M1*M2=  [[350 272]\n",
      " [782 780]]\n",
      "M1/M2=  [[7.14285714 4.25      ]\n",
      " [1.47826087 5.41666667]]\n"
     ]
    }
   ],
   "source": [
    "# Solution\n",
    "m9=m1+m2\n",
    "m10=m1-m2\n",
    "m11=m1*m2\n",
    "m12=m1/m2\n",
    "print(\"M1+M2= \",m9)\n",
    "print(\"M1-M2= \",m10)\n",
    "print(\"M1*M2= \",m11)\n",
    "print(\"M1/M2= \",m12)"
   ]
  },
  {
   "cell_type": "markdown",
   "metadata": {},
   "source": [
    "#### 17. Add the m1 with m3 by removing the first row and last column of m3"
   ]
  },
  {
   "cell_type": "code",
   "execution_count": 134,
   "metadata": {},
   "outputs": [
    {
     "name": "stdout",
     "output_type": "stream",
     "text": [
      "M1+M3=  [[56 88]\n",
      " [42 70]]\n"
     ]
    }
   ],
   "source": [
    "# Solution\n",
    "m13=m3[1:,0:2]\n",
    "m14=m1+m13\n",
    "print(\"M1+M3= \",m14)"
   ]
  },
  {
   "cell_type": "markdown",
   "metadata": {},
   "source": [
    "#### 18. Form the matrix m4 by concatenating (as a new row) the vector [me1, me2] with the matrix m1, where me1 and me2 are the mean values of each column on m1."
   ]
  },
  {
   "cell_type": "code",
   "execution_count": 167,
   "metadata": {},
   "outputs": [
    {
     "name": "stdout",
     "output_type": "stream",
     "text": [
      "M4 =  [[50.  34. ]\n",
      " [34.  65. ]\n",
      " [42.  49.5]]\n"
     ]
    }
   ],
   "source": [
    "# Solution\n",
    "m15=m1[0:2,0:1]\n",
    "m16=m1[0:2,1:2]\n",
    "me1=m15.mean()\n",
    "me2=m16.mean()\n",
    "me=np.matrix([me1,me2])\n",
    "m17=np.concatenate((m1,me),axis=0)\n",
    "print(\"M4 = \",m17)"
   ]
  },
  {
   "cell_type": "markdown",
   "metadata": {},
   "source": [
    "#### 19. Perform the matrix multiplication between m3 and m4"
   ]
  },
  {
   "cell_type": "code",
   "execution_count": 166,
   "metadata": {},
   "outputs": [
    {
     "name": "stdout",
     "output_type": "stream",
     "text": [
      "M1*M3 =  [[2860.  5190.5]\n",
      " [2388.  4011. ]\n",
      " [ 906.   993. ]]\n"
     ]
    }
   ],
   "source": [
    "# Solution\n",
    "m18=m3*m17\n",
    "print(\"M1*M3 = \",m18)"
   ]
  },
  {
   "cell_type": "markdown",
   "metadata": {},
   "source": [
    "#### 20. Compute the maximum and minimum value of mean, variance, standard deviation for each row of matrix created in question number 8."
   ]
  },
  {
   "cell_type": "code",
   "execution_count": 175,
   "metadata": {},
   "outputs": [
    {
     "name": "stdout",
     "output_type": "stream",
     "text": [
      "Maximum of mean:  32.6\n",
      "Minimum of mean:  11.2\n",
      "Maximum of standard deviation:  28.63843571147\n",
      "Minimum of standard deviation:  6.305553108173779\n",
      "Maximum of variance:  820.1600000000001\n",
      "Minimum of variance:  39.760000000000005\n"
     ]
    }
   ],
   "source": [
    "# Solution\n",
    "matrix9=matrix4.mean(axis=1)\n",
    "matrix10=matrix4.var(axis=1)\n",
    "matrix11=matrix4.std(axis=1)\n",
    "print(\"Maximum of mean: \",max(matrix9))\n",
    "print(\"Minimum of mean: \",min(matrix9))\n",
    "print(\"Maximum of standard deviation: \",max(matrix11))\n",
    "print(\"Minimum of standard deviation: \",min(matrix11))\n",
    "print(\"Maximum of variance: \",max(matrix10))\n",
    "print(\"Minimum of variance: \",min(matrix10))"
   ]
  },
  {
   "cell_type": "markdown",
   "metadata": {},
   "source": [
    "#### 21. Compute the average and strike rate for each player and sort it decending way (seperately for avg and strike rate)\n",
    "<img src = 'crick1.png'>"
   ]
  },
  {
   "cell_type": "code",
   "execution_count": 29,
   "metadata": {},
   "outputs": [
    {
     "name": "stdout",
     "output_type": "stream",
     "text": [
      "Average of the team is:  [13.25 29.   47.25 51.5  53.5 ]\n",
      "Average of the team in descending way is:  [53.5  51.5  47.25 29.   13.25]\n",
      "Strike rate of the team is:  [ 47.96296296  62.17703913  62.17703913  94.91125541 162.99554687]\n",
      "Strike Rate of the team in descending way is:  [162.99554687  94.91125541  62.17703913  62.17703913  47.96296296]\n"
     ]
    }
   ],
   "source": [
    "# Solution \n",
    "run_scored=np.array([[54,60,10,65],[102,2,78,32],[3,110,1,92],[56,6,12,42],[12,8,22,11]])\n",
    "balls_faced=np.array([[50,42,22,78],[95,8,65,43],[9,100,7,101],[27,3,11,31],[24,20,36,27]])\n",
    "msd_avg=np.average(run_scored[0:1,0:4])\n",
    "kholi_avg=np.average(run_scored[1:2,0:4])\n",
    "Rohit_avg=np.average(run_scored[2:3,0:4])\n",
    "Rahul_avg=np.average(run_scored[3:4,0:4])\n",
    "Dhawan_avg=np.average(run_scored[4:5,0:4])\n",
    "Average_team=np.array([msd_avg,kholi_avg,Rohit_avg,Rahul_avg,Dhawan_avg])\n",
    "Average_team=np.sort(Avg_team)\n",
    "print(\"Average of the team is: \",Average_team)\n",
    "print(\"Average of the team in descending way is: \",Average_team[::-1])\n",
    "strike_rate=run_scored/balls_faced*100\n",
    "msd_stk=np.sum(strike_rate[0:1,0:4])/4\n",
    "kholi_stk=np.sum(strike_rate[2:3,0:4])/4\n",
    "Rohit_stk=np.sum(strike_rate[2:3,0:4])/4\n",
    "Rahul_stk=np.sum(strike_rate[3:4,0:4])/4\n",
    "Dhawan_stk=np.sum(strike_rate[4:5,0:4])/4\n",
    "stk_team=np.array([msd_stk,kholi_stk,Rohit_stk,Rahul_stk,Dhawan_stk])\n",
    "stk_team=np.sort(stk_team)\n",
    "print(\"Strike rate of the team is: \",stk_team)\n",
    "print(\"Strike Rate of the team in descending way is: \",stk_team[::-1])"
   ]
  },
  {
   "cell_type": "markdown",
   "metadata": {},
   "source": [
    "#### 22. The students mark was recorded in a numpy array: marks = np.array([65,84,47,56,89,98,48,77,80,39]).  Cutoff for pass is 50 marks. Write the logic to print the number of students passed and failed. "
   ]
  },
  {
   "cell_type": "code",
   "execution_count": 46,
   "metadata": {},
   "outputs": [
    {
     "name": "stdout",
     "output_type": "stream",
     "text": [
      "Number of students Passed:  7\n",
      "Number of students Failed:  3\n"
     ]
    }
   ],
   "source": [
    "# Solution\n",
    "marks = np.array([65,84,47,56,89,98,48,77,80,39])\n",
    "passed=(marks[::-1]>50).sum()\n",
    "failed=(marks[::-1]<50).sum()\n",
    "print(\"Number of students Passed: \",passed)\n",
    "print(\"Number of students Failed: \",failed)"
   ]
  },
  {
   "cell_type": "markdown",
   "metadata": {},
   "source": [
    "#### 23. The class incharge decided to give a mercy mark of 5 for those who scored between 45 and 49. Also the bonus of 5 marks awarded to the students who scored more than 80. Print all the student marks and compute the increase in the pass percentage of class. Any score more than 100 must be recorded as only 100."
   ]
  },
  {
   "cell_type": "code",
   "execution_count": 61,
   "metadata": {},
   "outputs": [
    {
     "name": "stdout",
     "output_type": "stream",
     "text": [
      "All the students marks is:  [ 70  89  52  61  94 100  53  82  85  44]\n"
     ]
    }
   ],
   "source": [
    "# Solution\n",
    "marks = np.array([65,84,47,56,89,98,48,77,80,39])\n",
    "ind1=np.where((marks<=49)|(marks>=45)|(marks>=80))\n",
    "marks[ind1]=marks[ind1]+5\n",
    "ind2=np.where(marks[ind1]>=100)\n",
    "marks[ind2]=100\n",
    "print(\"All the students marks is: \",marks[ind1])"
   ]
  },
  {
   "cell_type": "markdown",
   "metadata": {},
   "source": [
    "#### 24. Print the time taken for performing the following operation using list and numpy array\n",
    "####       (x(i)^2 +8) / y(i),   where x and y are real integers from 1 to 60000"
   ]
  },
  {
   "cell_type": "code",
   "execution_count": 65,
   "metadata": {},
   "outputs": [
    {
     "name": "stdout",
     "output_type": "stream",
     "text": [
      "Wall time: 34.1 ms\n",
      "The time taken for list is :  0.03604841232299805\n",
      "Wall time: 8.05 ms\n",
      "The time taken for numpy is :  0.00804758071899414\n"
     ]
    }
   ],
   "source": [
    "# Solution\n",
    "import time\n",
    "def lst():\n",
    "    x=list(range(1,60000))\n",
    "    y=list(range(1,60000))\n",
    "    res=[]\n",
    "    for i in range (len(x)):\n",
    "        res.append((((x[i]**2)+8)/y[i]))\n",
    "        \n",
    "def npy():\n",
    "    x=np.array(range(1,60000))\n",
    "    y=np.array(range(1,60000))\n",
    "    res=((x**2)+8)/y\n",
    "    \n",
    "start=time.time()\n",
    "%time lst()\n",
    "end = time.time()\n",
    "print(\"The time taken for list is : \",end-start)\n",
    "start1=time.time()\n",
    "%time npy()\n",
    "end1=time.time()\n",
    "print(\"The time taken for numpy is : \",end1-start1)"
   ]
  },
  {
   "cell_type": "markdown",
   "metadata": {},
   "source": [
    "#### 25. Create a Github account and upload your solution with the short write-up on Numpy"
   ]
  },
  {
   "cell_type": "code",
   "execution_count": 64,
   "metadata": {},
   "outputs": [
    {
     "data": {
      "text/plain": [
       "<http.client.HTTPResponse at 0x1ea3f2a7d90>"
      ]
     },
     "execution_count": 64,
     "metadata": {},
     "output_type": "execute_result"
    }
   ],
   "source": [
    "# Solution\n",
    "import urllib.request\n",
    "url = urllib.request.urlopen('https://github.com/Palaniappa619/Numpy_Basics')\n",
    "url"
   ]
  }
 ],
 "metadata": {
  "kernelspec": {
   "display_name": "Python 3",
   "language": "python",
   "name": "python3"
  },
  "language_info": {
   "codemirror_mode": {
    "name": "ipython",
    "version": 3
   },
   "file_extension": ".py",
   "mimetype": "text/x-python",
   "name": "python",
   "nbconvert_exporter": "python",
   "pygments_lexer": "ipython3",
   "version": "3.8.8"
  }
 },
 "nbformat": 4,
 "nbformat_minor": 2
}
